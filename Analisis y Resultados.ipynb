{
 "cells": [
  {
   "cell_type": "markdown",
   "id": "60ddc1bc",
   "metadata": {},
   "source": [
    "**HOMOLOGACION DE UNIVERSIDADES**\n",
    "\n",
    "En resumen el problema se basa en poder encontrar la informacion de las universidades dadas por los postulantes (instituciones_educativas.csv) de manera que coincidan en lo mayor posible con las universidades licenciadas por SUNEDU (universidades.json) donde se encuentra la informacion correcta.\n",
    "\n",
    "*1. El Primer paso es revisar los dataset y analizar si es que requiere una limpieza*\n",
    "\n",
    "*2. Estimar cual es el porcentaje de obtener un mejor resultado al aplicar las transformaciones*\n",
    "\n",
    "*3. Comparar el proceso crudo (sin mucha transformacion) vs Elaborando un proceso adecuado en obtener mayor información*"
   ]
  },
  {
   "cell_type": "markdown",
   "id": "488a6f36",
   "metadata": {},
   "source": [
    "**1. Revisión y Analisis**\n",
    "\n",
    "Se procedio a revisar los dataset, hay que tener ciertos puntos como criterio para el analisis:\n",
    "    \n",
    "*- Solo se deberia considerar Universidades, Se ha identificado Instituto y Colegio. Esto podria ayudar a no considerar dentro del analisis para obtener resultados mas precisos.*\n",
    "\n",
    "*- Hay registros que presentan las siglas de alguna universidad, se podria analizar por separado dichos registros.*\n",
    "\n",
    "*- Hay que considerar que en el analisis debemos considerar que se ignore la mayuscula y minuscula.*"
   ]
  },
  {
   "cell_type": "markdown",
   "id": "f5f219fe",
   "metadata": {},
   "source": [
    "**2. Estimar posibles resultados**"
   ]
  },
  {
   "cell_type": "code",
   "execution_count": 1,
   "id": "617a24b4",
   "metadata": {},
   "outputs": [],
   "source": [
    "#Importamos las librerias que se usaran para este previo analisis\n",
    "import numpy as np\n",
    "import pandas as pd\n",
    "\n",
    "#Almacenamos en variables los origenes de nuestros dataset\n",
    "\n",
    "#Enlace del dataset instituciones_educativas.csv\n",
    "url_csv = \"https://raw.githubusercontent.com/nickiunac/homologar_universidades/main/instituciones_educativas.csv\"\n",
    "\n",
    "#Enlace del dataset Universidades.json\n",
    "url_json = \"https://raw.githubusercontent.com/nickiunac/homologar_universidades/main/Universidades.json\"\n",
    "\n",
    "#Leemos los archivos en los formatos correspondientes\n",
    "\n",
    "#Dataframe de Instituciones Educativas\n",
    "df_csv = pd.read_csv(url_csv)\n",
    "\n",
    "#Dataframe de Universidades\n",
    "df_json = pd.read_json(url_json)"
   ]
  },
  {
   "cell_type": "markdown",
   "id": "c4abaf7f",
   "metadata": {},
   "source": [
    "*Revisamos que nuestros dataset no presenten vacios*"
   ]
  },
  {
   "cell_type": "code",
   "execution_count": 2,
   "id": "2db74d67",
   "metadata": {},
   "outputs": [
    {
     "data": {
      "text/plain": [
       "candidateId    0.0\n",
       "value          0.0\n",
       "dtype: float64"
      ]
     },
     "execution_count": 2,
     "metadata": {},
     "output_type": "execute_result"
    }
   ],
   "source": [
    "df_csv.isnull().sum()/len(df_csv)*100"
   ]
  },
  {
   "cell_type": "code",
   "execution_count": 3,
   "id": "18678bf8",
   "metadata": {},
   "outputs": [
    {
     "data": {
      "text/plain": [
       "código INEI    0.0\n",
       "Nombre         0.0\n",
       "Siglas         0.0\n",
       "dtype: float64"
      ]
     },
     "execution_count": 3,
     "metadata": {},
     "output_type": "execute_result"
    }
   ],
   "source": [
    "df_json.isnull().sum()/len(df_json)*100"
   ]
  },
  {
   "cell_type": "markdown",
   "id": "4a72d7c6",
   "metadata": {},
   "source": [
    "*Como el resultado mayor se obtiene de cuantos registros que tienen mayor coincidencia, nos centraremos en el dataset instituciones_educativas.csv donde se encuentra dicha informacion*\n",
    "\n",
    "**Obtener 8588 registros como nuestro 100%**"
   ]
  },
  {
   "cell_type": "code",
   "execution_count": 4,
   "id": "157292e0",
   "metadata": {},
   "outputs": [
    {
     "data": {
      "text/plain": [
       "8588"
      ]
     },
     "execution_count": 4,
     "metadata": {},
     "output_type": "execute_result"
    }
   ],
   "source": [
    "#Mostramos la cantidad total de registros\n",
    "df_csv.shape[0]"
   ]
  },
  {
   "cell_type": "markdown",
   "id": "995d2399",
   "metadata": {},
   "source": [
    "*Ahora evaluaremos distintas formas de cual seria nuestro mayor margen en numero y/o porcentaje de obtener la mayor informacion correcta.*\n",
    "\n",
    "*La mejor forma es analizar la palabra universidad en cuantos registros se presenta, eso seria el margen mas alto.*\n",
    "\n",
    "**OJO:** *Hay que tener en cuenta que no todos esos registros van a ser universidades licenciadas, y considerar que puede haber registros con solamente siglas.*"
   ]
  },
  {
   "cell_type": "code",
   "execution_count": 5,
   "id": "5b377ffa",
   "metadata": {},
   "outputs": [
    {
     "data": {
      "text/plain": [
       "2694"
      ]
     },
     "execution_count": 5,
     "metadata": {},
     "output_type": "execute_result"
    }
   ],
   "source": [
    "#Analizamos cuantos registros contienen la palabara \"universidad\"\n",
    "\n",
    "#Realizamos una copia para no alterar nuestro dataset\n",
    "df_universidad = df_csv.copy()\n",
    "\n",
    "#transformamos el campo a minuscula para evitar diferencias, luego buscamos la palabra \"universidad\"\n",
    "df_universidad[\"value\"] = df_universidad[\"value\"].str.lower()\n",
    "df_universidad = df_universidad[df_universidad[\"value\"].str.contains(\"universidad\")]\n",
    "\n",
    "#Mostramos cuantos registros contienen la palabra \"universidad\"\n",
    "df_universidad.shape[0]"
   ]
  },
  {
   "cell_type": "markdown",
   "id": "09560cf2",
   "metadata": {},
   "source": [
    "*Podemos concluir que nuestro margen mas alto seria **2694 Registros**, entonces deberiamos obtener un resultado cercano a ello para asi obtener la mayor informacion posible y menor error posible al transformar la información*"
   ]
  },
  {
   "cell_type": "markdown",
   "id": "c91020bb",
   "metadata": {},
   "source": [
    "**3. Comparacion de procesos para obtener mayor resultado**"
   ]
  },
  {
   "cell_type": "markdown",
   "id": "3846e40a",
   "metadata": {},
   "source": [
    "*Ahora realizaremos una transformacion con una herramienta util para la comparacion de cadenas de texto de manera difusa o aproximada que es la biblioteca de Python **fuzzywuzzy**, esta herramienta nos ayudara a calcular la similitud entre dos cadenas de texto.*"
   ]
  },
  {
   "cell_type": "code",
   "execution_count": 6,
   "id": "737ad3d7",
   "metadata": {},
   "outputs": [],
   "source": [
    "#Instalamos la biblioteca fuzzywuzzy"
   ]
  },
  {
   "cell_type": "code",
   "execution_count": 7,
   "id": "fcf27368",
   "metadata": {},
   "outputs": [
    {
     "name": "stdout",
     "output_type": "stream",
     "text": [
      "Requirement already satisfied: fuzzywuzzy in c:\\users\\ricardo\\anaconda3\\lib\\site-packages (0.18.0)\n",
      "Note: you may need to restart the kernel to use updated packages.\n"
     ]
    }
   ],
   "source": [
    "pip install fuzzywuzzy"
   ]
  },
  {
   "cell_type": "code",
   "execution_count": 8,
   "id": "26fbe862",
   "metadata": {},
   "outputs": [],
   "source": [
    "#Transformamos en minuscula los campos que realizaremos la comparacion y luego saber a que universidad licenciada pertenece\n",
    "df_csv[\"value\"] = df_csv[\"value\"].str.lower()\n",
    "\n",
    "#el campo figura con un espacio demas, es la forma como se obtiene del dataset pueden realizar una pequeña \n",
    "#transformacion \"rename\" o validan con un df_json.columns\n",
    "df_json[\"Nombre \"] = df_json[\"Nombre \"].str.lower()"
   ]
  },
  {
   "cell_type": "code",
   "execution_count": 9,
   "id": "3ffa7043",
   "metadata": {},
   "outputs": [
    {
     "name": "stderr",
     "output_type": "stream",
     "text": [
      "C:\\Users\\Ricardo\\anaconda3\\lib\\site-packages\\fuzzywuzzy\\fuzz.py:11: UserWarning: Using slow pure-python SequenceMatcher. Install python-Levenshtein to remove this warning\n",
      "  warnings.warn('Using slow pure-python SequenceMatcher. Install python-Levenshtein to remove this warning')\n"
     ]
    },
    {
     "data": {
      "text/html": [
       "<div>\n",
       "<style scoped>\n",
       "    .dataframe tbody tr th:only-of-type {\n",
       "        vertical-align: middle;\n",
       "    }\n",
       "\n",
       "    .dataframe tbody tr th {\n",
       "        vertical-align: top;\n",
       "    }\n",
       "\n",
       "    .dataframe thead th {\n",
       "        text-align: right;\n",
       "    }\n",
       "</style>\n",
       "<table border=\"1\" class=\"dataframe\">\n",
       "  <thead>\n",
       "    <tr style=\"text-align: right;\">\n",
       "      <th></th>\n",
       "      <th>candidateId</th>\n",
       "      <th>value</th>\n",
       "      <th>Universidad_Homologada</th>\n",
       "    </tr>\n",
       "  </thead>\n",
       "  <tbody>\n",
       "    <tr>\n",
       "      <th>0</th>\n",
       "      <td>630633fa1e599d0009d6dee0</td>\n",
       "      <td>ucv</td>\n",
       "      <td>False</td>\n",
       "    </tr>\n",
       "    <tr>\n",
       "      <th>1</th>\n",
       "      <td>630633fa1e599d0009d6dee0</td>\n",
       "      <td>josé gálvez</td>\n",
       "      <td>False</td>\n",
       "    </tr>\n",
       "    <tr>\n",
       "      <th>2</th>\n",
       "      <td>63063bda29da5b00089fb224</td>\n",
       "      <td>universidad peruana de ciencias aplicadas - upc</td>\n",
       "      <td>False</td>\n",
       "    </tr>\n",
       "    <tr>\n",
       "      <th>3</th>\n",
       "      <td>63063bda29da5b00089fb224</td>\n",
       "      <td>centro peruano de  estudios bancarios - cepeban</td>\n",
       "      <td>False</td>\n",
       "    </tr>\n",
       "    <tr>\n",
       "      <th>4</th>\n",
       "      <td>630644da1e599d0009d6e2f4</td>\n",
       "      <td>instituto de formación bancaria - ifb</td>\n",
       "      <td>False</td>\n",
       "    </tr>\n",
       "  </tbody>\n",
       "</table>\n",
       "</div>"
      ],
      "text/plain": [
       "                candidateId                                            value  \\\n",
       "0  630633fa1e599d0009d6dee0                                              ucv   \n",
       "1  630633fa1e599d0009d6dee0                                      josé gálvez   \n",
       "2  63063bda29da5b00089fb224  universidad peruana de ciencias aplicadas - upc   \n",
       "3  63063bda29da5b00089fb224  centro peruano de  estudios bancarios - cepeban   \n",
       "4  630644da1e599d0009d6e2f4            instituto de formación bancaria - ifb   \n",
       "\n",
       "   Universidad_Homologada  \n",
       "0                   False  \n",
       "1                   False  \n",
       "2                   False  \n",
       "3                   False  \n",
       "4                   False  "
      ]
     },
     "execution_count": 9,
     "metadata": {},
     "output_type": "execute_result"
    }
   ],
   "source": [
    "#Importamos las funciones\n",
    "from fuzzywuzzy import fuzz, process\n",
    "\n",
    "#Funcion para homologar universidades (para encontrar la mejor coincidencia)\n",
    "#En este caso usamos el algoritmo \"token_sort_radio\" y realizamos una condicion\n",
    "#donde se tiene que obtener una similitud mayor o igual a 90 y devuelve TRUE, sino devuelve FALSE\n",
    "def homologar_universidad(value):\n",
    "    match = process.extractOne(value, df_json['Nombre '], scorer=fuzz.token_sort_ratio)\n",
    "    if match[1] >= 90:\n",
    "        return True\n",
    "    else:\n",
    "        return False\n",
    "\n",
    "#Creamos una columna de universidad homologada en df_csv para saber si pertenece a una universidad licenciada\n",
    "df_csv['Universidad_Homologada'] = df_csv['value'].apply(homologar_universidad)\n",
    "\n",
    "#Mostramos el resultado previo\n",
    "df_csv.head()"
   ]
  },
  {
   "cell_type": "code",
   "execution_count": 10,
   "id": "9d406cf1",
   "metadata": {},
   "outputs": [
    {
     "data": {
      "text/plain": [
       "1635"
      ]
     },
     "execution_count": 10,
     "metadata": {},
     "output_type": "execute_result"
    }
   ],
   "source": [
    "#Contamos cuantos registros coincidentes obtuvimos\n",
    "df_csv[(df_csv[\"Universidad_Homologada\"] == True)].shape[0]"
   ]
  },
  {
   "cell_type": "markdown",
   "id": "2c9707db",
   "metadata": {},
   "source": [
    "**Entonces aplicando la herramienta fuzzywuzzy nos ayudo a obtener 1635 registros**"
   ]
  },
  {
   "cell_type": "markdown",
   "id": "f7580948",
   "metadata": {},
   "source": [
    "*Ahora vamos a ver cuando aplicamos un proceso de limpieza teniendo en cuenta nuestro analisis principal.*\n",
    "\n",
    "**Generaremos un nuevo script \"Proceso\" donde visualizaremos todo el procedimiento, luego aqui compararemos los resultados**"
   ]
  },
  {
   "cell_type": "markdown",
   "id": "f897b24e",
   "metadata": {},
   "source": [
    "*Ahora que visualizamos en el script **\"Proceso\"** se obtuvo 2202 registros*"
   ]
  },
  {
   "cell_type": "markdown",
   "id": "ef7910e1",
   "metadata": {},
   "source": [
    "**CONCLUSION**"
   ]
  },
  {
   "cell_type": "code",
   "execution_count": 11,
   "id": "ab616072",
   "metadata": {},
   "outputs": [
    {
     "data": {
      "text/html": [
       "<div>\n",
       "<style scoped>\n",
       "    .dataframe tbody tr th:only-of-type {\n",
       "        vertical-align: middle;\n",
       "    }\n",
       "\n",
       "    .dataframe tbody tr th {\n",
       "        vertical-align: top;\n",
       "    }\n",
       "\n",
       "    .dataframe thead th {\n",
       "        text-align: right;\n",
       "    }\n",
       "</style>\n",
       "<table border=\"1\" class=\"dataframe\">\n",
       "  <thead>\n",
       "    <tr style=\"text-align: right;\">\n",
       "      <th></th>\n",
       "      <th>Tipo</th>\n",
       "      <th>Registros</th>\n",
       "      <th>%Total</th>\n",
       "    </tr>\n",
       "  </thead>\n",
       "  <tbody>\n",
       "    <tr>\n",
       "      <th>0</th>\n",
       "      <td>Proceso Simple</td>\n",
       "      <td>1635</td>\n",
       "      <td>0.61</td>\n",
       "    </tr>\n",
       "    <tr>\n",
       "      <th>1</th>\n",
       "      <td>Procesos Transformado</td>\n",
       "      <td>2202</td>\n",
       "      <td>0.82</td>\n",
       "    </tr>\n",
       "  </tbody>\n",
       "</table>\n",
       "</div>"
      ],
      "text/plain": [
       "                    Tipo  Registros  %Total\n",
       "0         Proceso Simple       1635    0.61\n",
       "1  Procesos Transformado       2202    0.82"
      ]
     },
     "execution_count": 11,
     "metadata": {},
     "output_type": "execute_result"
    }
   ],
   "source": [
    "#Creamos un pequeño dataframe con los datos obtenidos\n",
    "\n",
    "#Estimago del margen mas alto al tener las coincidencias aproximadas de las universidades\n",
    "Margen = 2694\n",
    "\n",
    "data = {\n",
    "    \"Tipo\": [\"Proceso Simple\", \"Procesos Transformado\"],\n",
    "    \"Registros\": [1635, 2202]\n",
    "}\n",
    "\n",
    "resultado = pd.DataFrame(data)\n",
    "\n",
    "resultado[\"%Total\"] = np.divide(resultado[\"Registros\"], Margen).round(2)\n",
    "\n",
    "resultado.head()"
   ]
  },
  {
   "cell_type": "markdown",
   "id": "f6ee92fd",
   "metadata": {},
   "source": [
    "*Con la ayuda de la herramienta **fuzzywuzzy** y aplicando un analisis y transformacion logramos **incrementar más del *20% de similitud** con respecto al margen aproximado, esto ayudara a obtener mayor informacion y asi poder tomar una decision. sin embargo tener en cuenta que aun existen registros que pueden que no esten considerado o que se esten considerando mal pero con un minimo error, ya que se aplico una **similitud mayor o igual al 90**.*"
   ]
  },
  {
   "cell_type": "markdown",
   "id": "9727c496",
   "metadata": {},
   "source": [
    "**EN EL SCRIPT : PROCESO, ENCONTRARA TAMBIEN LAS SOLUCIONES DEL RETO, GENERANDO LOS DOS ARCHIVOS:**\n",
    "\n",
    "        - universidades_homologadas.csv\n",
    "        \n",
    "        - sinonimo_universidades.json\n",
    "        "
   ]
  }
 ],
 "metadata": {
  "kernelspec": {
   "display_name": "Python 3 (ipykernel)",
   "language": "python",
   "name": "python3"
  },
  "language_info": {
   "codemirror_mode": {
    "name": "ipython",
    "version": 3
   },
   "file_extension": ".py",
   "mimetype": "text/x-python",
   "name": "python",
   "nbconvert_exporter": "python",
   "pygments_lexer": "ipython3",
   "version": "3.9.12"
  }
 },
 "nbformat": 4,
 "nbformat_minor": 5
}
